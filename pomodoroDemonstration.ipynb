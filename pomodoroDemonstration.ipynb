{
 "metadata": {
  "language_info": {
   "codemirror_mode": {
    "name": "ipython",
    "version": 3
   },
   "file_extension": ".py",
   "mimetype": "text/x-python",
   "name": "python",
   "nbconvert_exporter": "python",
   "pygments_lexer": "ipython3",
   "version": "3.7.6"
  },
  "orig_nbformat": 2,
  "kernelspec": {
   "name": "python376jvsc74a57bd0bc20d593a0cec36e52bb8ff8cc02d4954d3a32b49411c59925eaa4af9003804d",
   "display_name": "Python 3.7.6 64-bit ('base': conda)"
  },
  "metadata": {
   "interpreter": {
    "hash": "bc20d593a0cec36e52bb8ff8cc02d4954d3a32b49411c59925eaa4af9003804d"
   }
  }
 },
 "nbformat": 4,
 "nbformat_minor": 2,
 "cells": [
  {
   "source": [
    "# Demonstration of this Pomodoro tool\n",
    "\n",
    "Here you can easily use this functionality. First, you have to download the code and test it with some default values:"
   ],
   "cell_type": "markdown",
   "metadata": {}
  },
  {
   "cell_type": "code",
   "execution_count": 1,
   "metadata": {},
   "outputs": [
    {
     "output_type": "stream",
     "name": "stdout",
     "text": [
      "At 08:00 do some WORK for 25 minutes!\nAt 08:25 do some SHORT BREAK for 5 minutes!\nAt 08:30 do some WORK for 25 minutes!\nAt 08:55 do some SHORT BREAK for 5 minutes!\nAt 09:00 do some WORK for 25 minutes!\nAt 09:25 do some LONG BREAK for 10 minutes!\nAt 09:35 do some WORK for 25 minutes!\nAt 10:00 do some SHORT BREAK for 5 minutes!\nAt 10:05 do some WORK for 25 minutes!\nAt 10:30 do some SHORT BREAK for 5 minutes!\nAt 10:35 do some WORK for 25 minutes!\nAt 11:00 do some LONG BREAK for 10 minutes!\nAt 11:10 do some WORK for 25 minutes!\nAt 11:35 do some SHORT BREAK for 5 minutes!\nAt 11:40 do some WORK for 25 minutes!\nAt 12:05 do some SHORT BREAK for 5 minutes!\nAt 12:10 do some WORK for 25 minutes!\n"
     ]
    }
   ],
   "source": [
    "!wget https://raw.githubusercontent.com/edu9as/tools/main/pomodoro/pomodoro.py\n",
    "!python pomodoro.py 8 00 12 30"
   ]
  },
  {
   "source": [
    "# Stay focused while you work!\n",
    "\n",
    "Now, you can enter whichever parameters you want to define your Pomodoro routine:"
   ],
   "cell_type": "markdown",
   "metadata": {}
  },
  {
   "cell_type": "code",
   "execution_count": null,
   "metadata": {},
   "outputs": [],
   "source": [
    "!python pomodoro.py   # ...enter your parameters!"
   ]
  }
 ]
}