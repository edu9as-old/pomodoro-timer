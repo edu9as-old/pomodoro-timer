{
 "metadata": {
  "language_info": {
   "codemirror_mode": {
    "name": "ipython",
    "version": 3
   },
   "file_extension": ".py",
   "mimetype": "text/x-python",
   "name": "python",
   "nbconvert_exporter": "python",
   "pygments_lexer": "ipython3",
   "version": "3.7.6"
  },
  "orig_nbformat": 2,
  "kernelspec": {
   "name": "python376jvsc74a57bd0bc20d593a0cec36e52bb8ff8cc02d4954d3a32b49411c59925eaa4af9003804d",
   "display_name": "Python 3.7.6 64-bit ('base': conda)"
  },
  "metadata": {
   "interpreter": {
    "hash": "bc20d593a0cec36e52bb8ff8cc02d4954d3a32b49411c59925eaa4af9003804d"
   }
  }
 },
 "nbformat": 4,
 "nbformat_minor": 2,
 "cells": [
  {
   "cell_type": "markdown",
   "source": [
    "# Demonstration of this Pomodoro tool\n",
    "\n",
    "Here you can easily use this functionality. First, you have to download the code and test it with some default values:"
   ],
   "metadata": {}
  },
  {
   "cell_type": "code",
   "execution_count": 1,
   "source": [
    "!git clone https://github.com/edu9as-old/pomodoro-timer.git\n",
    "%cd pomodoro-timer\n",
    "!python pomodoro.py 8 00 12 30"
   ],
   "outputs": [
    {
     "output_type": "stream",
     "name": "stdout",
     "text": [
      "At 08:00 do some WORK for 25 minutes!\n",
      "At 08:25 do some SHORT BREAK for 5 minutes!\n",
      "At 08:30 do some WORK for 25 minutes!\n",
      "At 08:55 do some SHORT BREAK for 5 minutes!\n",
      "At 09:00 do some WORK for 25 minutes!\n",
      "At 09:25 do some LONG BREAK for 10 minutes!\n",
      "At 09:35 do some WORK for 25 minutes!\n",
      "At 10:00 do some SHORT BREAK for 5 minutes!\n",
      "At 10:05 do some WORK for 25 minutes!\n",
      "At 10:30 do some SHORT BREAK for 5 minutes!\n",
      "At 10:35 do some WORK for 25 minutes!\n",
      "At 11:00 do some LONG BREAK for 10 minutes!\n",
      "At 11:10 do some WORK for 25 minutes!\n",
      "At 11:35 do some SHORT BREAK for 5 minutes!\n",
      "At 11:40 do some WORK for 25 minutes!\n",
      "At 12:05 do some SHORT BREAK for 5 minutes!\n",
      "At 12:10 do some WORK for 25 minutes!\n"
     ]
    }
   ],
   "metadata": {}
  },
  {
   "cell_type": "markdown",
   "source": [
    "# Stay focused while you work!\n",
    "\n",
    "Now, you can enter whichever parameters you want to define your Pomodoro routine:"
   ],
   "metadata": {}
  },
  {
   "cell_type": "code",
   "execution_count": null,
   "source": [
    "!python pomodoro.py   # ...enter your parameters!"
   ],
   "outputs": [],
   "metadata": {}
  }
 ]
}